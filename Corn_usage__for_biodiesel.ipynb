{
 "cells": [
  {
   "cell_type": "markdown",
   "id": "ad06d309",
   "metadata": {},
   "source": [
    "Data obtained from: https://www.usda.gov/oce/commodity-markets/wasde/historical-wasde-report-data\n",
    "Supply and dissaperance units are million bushels"
   ]
  },
  {
   "cell_type": "code",
   "execution_count": 1,
   "id": "07b341f0",
   "metadata": {},
   "outputs": [],
   "source": [
    "import pandas as pd\n",
    "import numpy as np\n",
    "import scipy.optimize as opt\n",
    "import matplotlib.pyplot as plt\n",
    "from scipy.integrate import odeint\n",
    "from scipy.optimize import minimize\n",
    "from sklearn.model_selection import train_test_split"
   ]
  },
  {
   "cell_type": "code",
   "execution_count": 2,
   "id": "9bc8117b",
   "metadata": {
    "scrolled": true
   },
   "outputs": [
    {
     "data": {
      "text/html": [
       "<div>\n",
       "<style scoped>\n",
       "    .dataframe tbody tr th:only-of-type {\n",
       "        vertical-align: middle;\n",
       "    }\n",
       "\n",
       "    .dataframe tbody tr th {\n",
       "        vertical-align: top;\n",
       "    }\n",
       "\n",
       "    .dataframe thead th {\n",
       "        text-align: right;\n",
       "    }\n",
       "</style>\n",
       "<table border=\"1\" class=\"dataframe\">\n",
       "  <thead>\n",
       "    <tr style=\"text-align: right;\">\n",
       "      <th></th>\n",
       "      <th>Marketing year1</th>\n",
       "      <th>Marketing year quarter</th>\n",
       "      <th>Total</th>\n",
       "      <th>Fuel ethanol use</th>\n",
       "      <th>Total food, seed, and industrial use not including ethanol3</th>\n",
       "      <th>Feed and residual use</th>\n",
       "      <th>Exports</th>\n",
       "      <th>Total.1</th>\n",
       "      <th>Ethanol share of total use</th>\n",
       "    </tr>\n",
       "  </thead>\n",
       "  <tbody>\n",
       "    <tr>\n",
       "      <th>0</th>\n",
       "      <td>1980/81</td>\n",
       "      <td>MY Sep-Aug</td>\n",
       "      <td>8674.544</td>\n",
       "      <td>35.000</td>\n",
       "      <td>624.200</td>\n",
       "      <td>4232.138</td>\n",
       "      <td>2391.106</td>\n",
       "      <td>7282.444</td>\n",
       "      <td>0.480608</td>\n",
       "    </tr>\n",
       "    <tr>\n",
       "      <th>1</th>\n",
       "      <td>1981/82</td>\n",
       "      <td>MY Sep-Aug</td>\n",
       "      <td>9511.306</td>\n",
       "      <td>86.000</td>\n",
       "      <td>647.400</td>\n",
       "      <td>4244.545</td>\n",
       "      <td>1996.761</td>\n",
       "      <td>6974.706</td>\n",
       "      <td>1.233027</td>\n",
       "    </tr>\n",
       "    <tr>\n",
       "      <th>2</th>\n",
       "      <td>1982/83</td>\n",
       "      <td>MY Sep-Aug</td>\n",
       "      <td>10772.190</td>\n",
       "      <td>140.000</td>\n",
       "      <td>713.500</td>\n",
       "      <td>4573.245</td>\n",
       "      <td>1821.345</td>\n",
       "      <td>7248.090</td>\n",
       "      <td>1.931543</td>\n",
       "    </tr>\n",
       "    <tr>\n",
       "      <th>3</th>\n",
       "      <td>1983/84</td>\n",
       "      <td>MY Sep-Aug</td>\n",
       "      <td>7699.059</td>\n",
       "      <td>160.000</td>\n",
       "      <td>770.100</td>\n",
       "      <td>3876.262</td>\n",
       "      <td>1886.397</td>\n",
       "      <td>6692.759</td>\n",
       "      <td>2.390643</td>\n",
       "    </tr>\n",
       "    <tr>\n",
       "      <th>4</th>\n",
       "      <td>1984/85</td>\n",
       "      <td>MY Sep-Aug</td>\n",
       "      <td>8680.163</td>\n",
       "      <td>232.000</td>\n",
       "      <td>835.200</td>\n",
       "      <td>4114.512</td>\n",
       "      <td>1850.251</td>\n",
       "      <td>7031.963</td>\n",
       "      <td>3.299221</td>\n",
       "    </tr>\n",
       "    <tr>\n",
       "      <th>...</th>\n",
       "      <td>...</td>\n",
       "      <td>...</td>\n",
       "      <td>...</td>\n",
       "      <td>...</td>\n",
       "      <td>...</td>\n",
       "      <td>...</td>\n",
       "      <td>...</td>\n",
       "      <td>...</td>\n",
       "      <td>...</td>\n",
       "    </tr>\n",
       "    <tr>\n",
       "      <th>181</th>\n",
       "      <td>2021/22</td>\n",
       "      <td>Q1 Sep-Nov</td>\n",
       "      <td>16315.013</td>\n",
       "      <td>1342.134</td>\n",
       "      <td>347.412</td>\n",
       "      <td>2553.167</td>\n",
       "      <td>430.738</td>\n",
       "      <td>4673.451</td>\n",
       "      <td>28.718264</td>\n",
       "    </tr>\n",
       "    <tr>\n",
       "      <th>182</th>\n",
       "      <td>2021/22</td>\n",
       "      <td>Q2 Dec-Feb</td>\n",
       "      <td>11648.657</td>\n",
       "      <td>1347.605</td>\n",
       "      <td>339.761</td>\n",
       "      <td>1542.722</td>\n",
       "      <td>662.423</td>\n",
       "      <td>3892.511</td>\n",
       "      <td>34.620455</td>\n",
       "    </tr>\n",
       "    <tr>\n",
       "      <th>183</th>\n",
       "      <td>2021/22</td>\n",
       "      <td>Q3 Mar-May</td>\n",
       "      <td>7760.799</td>\n",
       "      <td>1315.836</td>\n",
       "      <td>398.296</td>\n",
       "      <td>849.183</td>\n",
       "      <td>851.392</td>\n",
       "      <td>3414.707</td>\n",
       "      <td>38.534375</td>\n",
       "    </tr>\n",
       "    <tr>\n",
       "      <th>184</th>\n",
       "      <td>2021/22</td>\n",
       "      <td>Q4 Jun-Aug</td>\n",
       "      <td>4351.890</td>\n",
       "      <td>1322.285</td>\n",
       "      <td>355.682</td>\n",
       "      <td>770.166</td>\n",
       "      <td>526.836</td>\n",
       "      <td>2974.969</td>\n",
       "      <td>44.447018</td>\n",
       "    </tr>\n",
       "    <tr>\n",
       "      <th>185</th>\n",
       "      <td>2021/22</td>\n",
       "      <td>MY Sep-Aug2</td>\n",
       "      <td>16332.559</td>\n",
       "      <td>5327.860</td>\n",
       "      <td>1441.151</td>\n",
       "      <td>5715.238</td>\n",
       "      <td>2471.389</td>\n",
       "      <td>14955.638</td>\n",
       "      <td>35.624425</td>\n",
       "    </tr>\n",
       "  </tbody>\n",
       "</table>\n",
       "<p>186 rows × 9 columns</p>\n",
       "</div>"
      ],
      "text/plain": [
       "    Marketing year1 Marketing year quarter      Total  Fuel ethanol use  \\\n",
       "0           1980/81             MY Sep-Aug   8674.544            35.000   \n",
       "1           1981/82             MY Sep-Aug   9511.306            86.000   \n",
       "2           1982/83             MY Sep-Aug  10772.190           140.000   \n",
       "3           1983/84             MY Sep-Aug   7699.059           160.000   \n",
       "4           1984/85             MY Sep-Aug   8680.163           232.000   \n",
       "..              ...                    ...        ...               ...   \n",
       "181         2021/22             Q1 Sep-Nov  16315.013          1342.134   \n",
       "182         2021/22             Q2 Dec-Feb  11648.657          1347.605   \n",
       "183         2021/22             Q3 Mar-May   7760.799          1315.836   \n",
       "184         2021/22             Q4 Jun-Aug   4351.890          1322.285   \n",
       "185         2021/22            MY Sep-Aug2  16332.559          5327.860   \n",
       "\n",
       "     Total food, seed, and industrial use not including ethanol3  \\\n",
       "0                                              624.200             \n",
       "1                                              647.400             \n",
       "2                                              713.500             \n",
       "3                                              770.100             \n",
       "4                                              835.200             \n",
       "..                                                 ...             \n",
       "181                                            347.412             \n",
       "182                                            339.761             \n",
       "183                                            398.296             \n",
       "184                                            355.682             \n",
       "185                                           1441.151             \n",
       "\n",
       "     Feed and residual use   Exports    Total.1  Ethanol share of total use  \n",
       "0                 4232.138  2391.106   7282.444                    0.480608  \n",
       "1                 4244.545  1996.761   6974.706                    1.233027  \n",
       "2                 4573.245  1821.345   7248.090                    1.931543  \n",
       "3                 3876.262  1886.397   6692.759                    2.390643  \n",
       "4                 4114.512  1850.251   7031.963                    3.299221  \n",
       "..                     ...       ...        ...                         ...  \n",
       "181               2553.167   430.738   4673.451                   28.718264  \n",
       "182               1542.722   662.423   3892.511                   34.620455  \n",
       "183                849.183   851.392   3414.707                   38.534375  \n",
       "184                770.166   526.836   2974.969                   44.447018  \n",
       "185               5715.238  2471.389  14955.638                   35.624425  \n",
       "\n",
       "[186 rows x 9 columns]"
      ]
     },
     "execution_count": 2,
     "metadata": {},
     "output_type": "execute_result"
    }
   ],
   "source": [
    "\n",
    "file='biodisel.xls'\n",
    "\n",
    "biodisel_df=pd.read_excel(file, sheet_name='Table005',usecols='A:I',skiprows = range(188, 196), header=1)\n",
    "\n",
    "biodisel_df"
   ]
  },
  {
   "cell_type": "markdown",
   "id": "56e4fb61",
   "metadata": {},
   "source": [
    "Marketing year will be converted to an int to match the format of other data frames"
   ]
  },
  {
   "cell_type": "code",
   "execution_count": 3,
   "id": "747a1e96",
   "metadata": {},
   "outputs": [
    {
     "data": {
      "text/html": [
       "<div>\n",
       "<style scoped>\n",
       "    .dataframe tbody tr th:only-of-type {\n",
       "        vertical-align: middle;\n",
       "    }\n",
       "\n",
       "    .dataframe tbody tr th {\n",
       "        vertical-align: top;\n",
       "    }\n",
       "\n",
       "    .dataframe thead th {\n",
       "        text-align: right;\n",
       "    }\n",
       "</style>\n",
       "<table border=\"1\" class=\"dataframe\">\n",
       "  <thead>\n",
       "    <tr style=\"text-align: right;\">\n",
       "      <th></th>\n",
       "      <th>Marketing year1</th>\n",
       "      <th>Marketing year quarter</th>\n",
       "      <th>Total</th>\n",
       "      <th>Fuel ethanol use</th>\n",
       "      <th>Total food, seed, and industrial use not including ethanol3</th>\n",
       "      <th>Feed and residual use</th>\n",
       "      <th>Exports</th>\n",
       "      <th>Total.1</th>\n",
       "      <th>Ethanol share of total use</th>\n",
       "    </tr>\n",
       "  </thead>\n",
       "  <tbody>\n",
       "    <tr>\n",
       "      <th>0</th>\n",
       "      <td>1980</td>\n",
       "      <td>MY Sep-Aug</td>\n",
       "      <td>8674.544</td>\n",
       "      <td>35.000</td>\n",
       "      <td>624.200</td>\n",
       "      <td>4232.138</td>\n",
       "      <td>2391.106</td>\n",
       "      <td>7282.444</td>\n",
       "      <td>0.480608</td>\n",
       "    </tr>\n",
       "    <tr>\n",
       "      <th>1</th>\n",
       "      <td>1981</td>\n",
       "      <td>MY Sep-Aug</td>\n",
       "      <td>9511.306</td>\n",
       "      <td>86.000</td>\n",
       "      <td>647.400</td>\n",
       "      <td>4244.545</td>\n",
       "      <td>1996.761</td>\n",
       "      <td>6974.706</td>\n",
       "      <td>1.233027</td>\n",
       "    </tr>\n",
       "    <tr>\n",
       "      <th>2</th>\n",
       "      <td>1982</td>\n",
       "      <td>MY Sep-Aug</td>\n",
       "      <td>10772.190</td>\n",
       "      <td>140.000</td>\n",
       "      <td>713.500</td>\n",
       "      <td>4573.245</td>\n",
       "      <td>1821.345</td>\n",
       "      <td>7248.090</td>\n",
       "      <td>1.931543</td>\n",
       "    </tr>\n",
       "    <tr>\n",
       "      <th>3</th>\n",
       "      <td>1983</td>\n",
       "      <td>MY Sep-Aug</td>\n",
       "      <td>7699.059</td>\n",
       "      <td>160.000</td>\n",
       "      <td>770.100</td>\n",
       "      <td>3876.262</td>\n",
       "      <td>1886.397</td>\n",
       "      <td>6692.759</td>\n",
       "      <td>2.390643</td>\n",
       "    </tr>\n",
       "    <tr>\n",
       "      <th>4</th>\n",
       "      <td>1984</td>\n",
       "      <td>MY Sep-Aug</td>\n",
       "      <td>8680.163</td>\n",
       "      <td>232.000</td>\n",
       "      <td>835.200</td>\n",
       "      <td>4114.512</td>\n",
       "      <td>1850.251</td>\n",
       "      <td>7031.963</td>\n",
       "      <td>3.299221</td>\n",
       "    </tr>\n",
       "    <tr>\n",
       "      <th>...</th>\n",
       "      <td>...</td>\n",
       "      <td>...</td>\n",
       "      <td>...</td>\n",
       "      <td>...</td>\n",
       "      <td>...</td>\n",
       "      <td>...</td>\n",
       "      <td>...</td>\n",
       "      <td>...</td>\n",
       "      <td>...</td>\n",
       "    </tr>\n",
       "    <tr>\n",
       "      <th>183</th>\n",
       "      <td>2021</td>\n",
       "      <td>Q3 Mar-May</td>\n",
       "      <td>7760.799</td>\n",
       "      <td>1315.836</td>\n",
       "      <td>398.296</td>\n",
       "      <td>849.183</td>\n",
       "      <td>851.392</td>\n",
       "      <td>3414.707</td>\n",
       "      <td>38.534375</td>\n",
       "    </tr>\n",
       "    <tr>\n",
       "      <th>184</th>\n",
       "      <td>2021</td>\n",
       "      <td>Q4 Jun-Aug</td>\n",
       "      <td>4351.890</td>\n",
       "      <td>1322.285</td>\n",
       "      <td>355.682</td>\n",
       "      <td>770.166</td>\n",
       "      <td>526.836</td>\n",
       "      <td>2974.969</td>\n",
       "      <td>44.447018</td>\n",
       "    </tr>\n",
       "    <tr>\n",
       "      <th>181</th>\n",
       "      <td>2021</td>\n",
       "      <td>Q1 Sep-Nov</td>\n",
       "      <td>16315.013</td>\n",
       "      <td>1342.134</td>\n",
       "      <td>347.412</td>\n",
       "      <td>2553.167</td>\n",
       "      <td>430.738</td>\n",
       "      <td>4673.451</td>\n",
       "      <td>28.718264</td>\n",
       "    </tr>\n",
       "    <tr>\n",
       "      <th>182</th>\n",
       "      <td>2021</td>\n",
       "      <td>Q2 Dec-Feb</td>\n",
       "      <td>11648.657</td>\n",
       "      <td>1347.605</td>\n",
       "      <td>339.761</td>\n",
       "      <td>1542.722</td>\n",
       "      <td>662.423</td>\n",
       "      <td>3892.511</td>\n",
       "      <td>34.620455</td>\n",
       "    </tr>\n",
       "    <tr>\n",
       "      <th>185</th>\n",
       "      <td>2021</td>\n",
       "      <td>MY Sep-Aug2</td>\n",
       "      <td>16332.559</td>\n",
       "      <td>5327.860</td>\n",
       "      <td>1441.151</td>\n",
       "      <td>5715.238</td>\n",
       "      <td>2471.389</td>\n",
       "      <td>14955.638</td>\n",
       "      <td>35.624425</td>\n",
       "    </tr>\n",
       "  </tbody>\n",
       "</table>\n",
       "<p>186 rows × 9 columns</p>\n",
       "</div>"
      ],
      "text/plain": [
       "    Marketing year1 Marketing year quarter      Total  Fuel ethanol use  \\\n",
       "0              1980             MY Sep-Aug   8674.544            35.000   \n",
       "1              1981             MY Sep-Aug   9511.306            86.000   \n",
       "2              1982             MY Sep-Aug  10772.190           140.000   \n",
       "3              1983             MY Sep-Aug   7699.059           160.000   \n",
       "4              1984             MY Sep-Aug   8680.163           232.000   \n",
       "..              ...                    ...        ...               ...   \n",
       "183            2021             Q3 Mar-May   7760.799          1315.836   \n",
       "184            2021             Q4 Jun-Aug   4351.890          1322.285   \n",
       "181            2021             Q1 Sep-Nov  16315.013          1342.134   \n",
       "182            2021             Q2 Dec-Feb  11648.657          1347.605   \n",
       "185            2021            MY Sep-Aug2  16332.559          5327.860   \n",
       "\n",
       "     Total food, seed, and industrial use not including ethanol3  \\\n",
       "0                                              624.200             \n",
       "1                                              647.400             \n",
       "2                                              713.500             \n",
       "3                                              770.100             \n",
       "4                                              835.200             \n",
       "..                                                 ...             \n",
       "183                                            398.296             \n",
       "184                                            355.682             \n",
       "181                                            347.412             \n",
       "182                                            339.761             \n",
       "185                                           1441.151             \n",
       "\n",
       "     Feed and residual use   Exports    Total.1  Ethanol share of total use  \n",
       "0                 4232.138  2391.106   7282.444                    0.480608  \n",
       "1                 4244.545  1996.761   6974.706                    1.233027  \n",
       "2                 4573.245  1821.345   7248.090                    1.931543  \n",
       "3                 3876.262  1886.397   6692.759                    2.390643  \n",
       "4                 4114.512  1850.251   7031.963                    3.299221  \n",
       "..                     ...       ...        ...                         ...  \n",
       "183                849.183   851.392   3414.707                   38.534375  \n",
       "184                770.166   526.836   2974.969                   44.447018  \n",
       "181               2553.167   430.738   4673.451                   28.718264  \n",
       "182               1542.722   662.423   3892.511                   34.620455  \n",
       "185               5715.238  2471.389  14955.638                   35.624425  \n",
       "\n",
       "[186 rows x 9 columns]"
      ]
     },
     "execution_count": 3,
     "metadata": {},
     "output_type": "execute_result"
    }
   ],
   "source": [
    "def update_date(org_string):\n",
    "    # Slice string to remove last 3 characters from string\n",
    "    mod_string = org_string[0:4]#+org_string[5:7]\n",
    "    return(mod_string)\n",
    "\n",
    "biodisel_df['Marketing year1'] = biodisel_df['Marketing year1'].map(lambda x: update_date(x))\n",
    "biodisel_df.sort_values(by=['Marketing year1'])"
   ]
  },
  {
   "cell_type": "code",
   "execution_count": 4,
   "id": "3a454e1a",
   "metadata": {},
   "outputs": [
    {
     "data": {
      "text/plain": [
       "False"
      ]
     },
     "execution_count": 4,
     "metadata": {},
     "output_type": "execute_result"
    }
   ],
   "source": [
    "condition1=((biodisel_df['Marketing year quarter'] == 'MY Sep-Aug') | (biodisel_df['Marketing year quarter'] == 'MY Sep-Aug2'))\n",
    "dated_df= biodisel_df.loc[condition1]\n",
    "dated_df['Marketing year1'].duplicated().any() "
   ]
  },
  {
   "cell_type": "markdown",
   "id": "09caeeeb",
   "metadata": {},
   "source": [
    "All years are unique, so the 'Marketing year quarter' column can be dropped."
   ]
  },
  {
   "cell_type": "code",
   "execution_count": 5,
   "id": "5e2b8fdd",
   "metadata": {},
   "outputs": [
    {
     "data": {
      "text/html": [
       "<div>\n",
       "<style scoped>\n",
       "    .dataframe tbody tr th:only-of-type {\n",
       "        vertical-align: middle;\n",
       "    }\n",
       "\n",
       "    .dataframe tbody tr th {\n",
       "        vertical-align: top;\n",
       "    }\n",
       "\n",
       "    .dataframe thead th {\n",
       "        text-align: right;\n",
       "    }\n",
       "</style>\n",
       "<table border=\"1\" class=\"dataframe\">\n",
       "  <thead>\n",
       "    <tr style=\"text-align: right;\">\n",
       "      <th></th>\n",
       "      <th>Marketing year1</th>\n",
       "      <th>Total</th>\n",
       "      <th>Fuel ethanol use</th>\n",
       "      <th>Total food, seed, and industrial use not including ethanol3</th>\n",
       "      <th>Feed and residual use</th>\n",
       "      <th>Exports</th>\n",
       "      <th>Total.1</th>\n",
       "      <th>Ethanol share of total use</th>\n",
       "    </tr>\n",
       "  </thead>\n",
       "  <tbody>\n",
       "    <tr>\n",
       "      <th>0</th>\n",
       "      <td>1980</td>\n",
       "      <td>8674.544</td>\n",
       "      <td>35.0</td>\n",
       "      <td>624.2</td>\n",
       "      <td>4232.138</td>\n",
       "      <td>2391.106</td>\n",
       "      <td>7282.444</td>\n",
       "      <td>0.480608</td>\n",
       "    </tr>\n",
       "    <tr>\n",
       "      <th>1</th>\n",
       "      <td>1981</td>\n",
       "      <td>9511.306</td>\n",
       "      <td>86.0</td>\n",
       "      <td>647.4</td>\n",
       "      <td>4244.545</td>\n",
       "      <td>1996.761</td>\n",
       "      <td>6974.706</td>\n",
       "      <td>1.233027</td>\n",
       "    </tr>\n",
       "    <tr>\n",
       "      <th>2</th>\n",
       "      <td>1982</td>\n",
       "      <td>10772.190</td>\n",
       "      <td>140.0</td>\n",
       "      <td>713.5</td>\n",
       "      <td>4573.245</td>\n",
       "      <td>1821.345</td>\n",
       "      <td>7248.090</td>\n",
       "      <td>1.931543</td>\n",
       "    </tr>\n",
       "    <tr>\n",
       "      <th>3</th>\n",
       "      <td>1983</td>\n",
       "      <td>7699.059</td>\n",
       "      <td>160.0</td>\n",
       "      <td>770.1</td>\n",
       "      <td>3876.262</td>\n",
       "      <td>1886.397</td>\n",
       "      <td>6692.759</td>\n",
       "      <td>2.390643</td>\n",
       "    </tr>\n",
       "    <tr>\n",
       "      <th>4</th>\n",
       "      <td>1984</td>\n",
       "      <td>8680.163</td>\n",
       "      <td>232.0</td>\n",
       "      <td>835.2</td>\n",
       "      <td>4114.512</td>\n",
       "      <td>1850.251</td>\n",
       "      <td>7031.963</td>\n",
       "      <td>3.299221</td>\n",
       "    </tr>\n",
       "  </tbody>\n",
       "</table>\n",
       "</div>"
      ],
      "text/plain": [
       "  Marketing year1      Total  Fuel ethanol use  \\\n",
       "0            1980   8674.544              35.0   \n",
       "1            1981   9511.306              86.0   \n",
       "2            1982  10772.190             140.0   \n",
       "3            1983   7699.059             160.0   \n",
       "4            1984   8680.163             232.0   \n",
       "\n",
       "   Total food, seed, and industrial use not including ethanol3  \\\n",
       "0                                              624.2             \n",
       "1                                              647.4             \n",
       "2                                              713.5             \n",
       "3                                              770.1             \n",
       "4                                              835.2             \n",
       "\n",
       "   Feed and residual use   Exports   Total.1  Ethanol share of total use  \n",
       "0               4232.138  2391.106  7282.444                    0.480608  \n",
       "1               4244.545  1996.761  6974.706                    1.233027  \n",
       "2               4573.245  1821.345  7248.090                    1.931543  \n",
       "3               3876.262  1886.397  6692.759                    2.390643  \n",
       "4               4114.512  1850.251  7031.963                    3.299221  "
      ]
     },
     "execution_count": 5,
     "metadata": {},
     "output_type": "execute_result"
    }
   ],
   "source": [
    "dated_df=dated_df.drop(columns=['Marketing year quarter'])\n",
    "dated_df.rename(columns = { }, inplace = True)\n",
    "dated_df.sort_values(by=['Marketing year1']).head()"
   ]
  },
  {
   "cell_type": "markdown",
   "id": "d60473b2",
   "metadata": {},
   "source": [
    "Change units to int for years"
   ]
  },
  {
   "cell_type": "code",
   "execution_count": 6,
   "id": "481bce14",
   "metadata": {},
   "outputs": [],
   "source": [
    "dated_df['Marketing year1']=dated_df['Marketing year1'].astype(int)"
   ]
  },
  {
   "cell_type": "markdown",
   "id": "b546374c",
   "metadata": {},
   "source": [
    "### Visualize data"
   ]
  },
  {
   "cell_type": "code",
   "execution_count": 7,
   "id": "330621d1",
   "metadata": {},
   "outputs": [
    {
     "data": {
      "text/plain": [
       "<AxesSubplot:xlabel='Marketing year1'>"
      ]
     },
     "execution_count": 7,
     "metadata": {},
     "output_type": "execute_result"
    },
    {
     "data": {
      "image/png": "[encoded data removed]",
      "text/plain": [
       "<Figure size 432x288 with 1 Axes>"
      ]
     },
     "metadata": {
      "needs_background": "light"
     },
     "output_type": "display_data"
    }
   ],
   "source": [
    "dated_df.plot(x='Marketing year1', y='Ethanol share of total use')"
   ]
  },
  {
   "cell_type": "markdown",
   "id": "531185e6",
   "metadata": {},
   "source": [
    "## Model generation\n",
    "The data seems to follow a logistic regression curve, so those parameters will be used"
   ]
  },
  {
   "cell_type": "code",
   "execution_count": 8,
   "id": "50452569",
   "metadata": {},
   "outputs": [
    {
     "data": {
      "image/png": "[encoded data removed]",
      "text/plain": [
       "<Figure size 432x288 with 1 Axes>"
      ]
     },
     "metadata": {
      "needs_background": "light"
     },
     "output_type": "display_data"
    }
   ],
   "source": [
    "#logistic condition\n",
    "def logistic (N,t, B, gamma):\n",
    "    dNdt = gamma*N*(1-N/B)\n",
    "    return dNdt\n",
    "\n",
    "N0 = 1 # initial condition\n",
    "B = 40 # carrying capacity\n",
    "gamma = 0.15 # growth rate\n",
    "dt = 0.1 # time step\n",
    "t_total = 100 # total time\n",
    "\n",
    "\n",
    "t = np.linspace(0, t_total, int(t_total/dt + 1))\n",
    "\n",
    "N = odeint(logistic, N0, t, args = (B, gamma))\n",
    "\n",
    "plt.plot(t, N)\n",
    "plt.xlabel('Time (Years)')\n",
    "plt.ylabel('Ethanol share')\n",
    "plt.show()"
   ]
  },
  {
   "cell_type": "markdown",
   "id": "fc97df32",
   "metadata": {},
   "source": [
    "Years will be shifted so values start at 0. Step necessary when dealing with linear functions"
   ]
  },
  {
   "cell_type": "code",
   "execution_count": 9,
   "id": "8a995011",
   "metadata": {},
   "outputs": [
    {
     "name": "stdout",
     "output_type": "stream",
     "text": [
      "<class 'numpy.ndarray'> (2, 42)\n"
     ]
    }
   ],
   "source": [
    "# Select values\n",
    "years = dated_df[['Marketing year1']].to_numpy().flatten()\n",
    "share=dated_df[['Ethanol share of total use']].to_numpy().flatten()\n",
    "lvdata = np.array([years, share])\n",
    "print(type(lvdata),lvdata.shape)\n"
   ]
  },
  {
   "cell_type": "code",
   "execution_count": 10,
   "id": "aed65ec9",
   "metadata": {},
   "outputs": [
    {
     "data": {
      "image/png": "[encoded data removed]",
      "text/plain": [
       "<Figure size 432x288 with 1 Axes>"
      ]
     },
     "metadata": {
      "needs_background": "light"
     },
     "output_type": "display_data"
    }
   ],
   "source": [
    "plt.plot(lvdata[0],lvdata[1])\n",
    "plt.xlabel('Year')\n",
    "plt.ylabel('Ethanol share')\n",
    "plt.show()"
   ]
  },
  {
   "cell_type": "code",
   "execution_count": 11,
   "id": "d69aa94e",
   "metadata": {},
   "outputs": [],
   "source": [
    "#Parameter fitting\n",
    "\n",
    "# define the error function (Sum of Square differences, SSD)\n",
    "def error_ssd (p):\n",
    "    \n",
    "    X0 = lvdata[1,0] # initial condition\n",
    "    a,b = p\n",
    "    dt = 0.01 # time step\n",
    "    t_total = lvdata.shape[1]-1 # total time\n",
    "    steps_dt = int(1/dt)\n",
    "    steps_total = int(t_total/dt)+1\n",
    "\n",
    "    t = np.linspace(0, t_total, steps_total)\n",
    "    X = odeint(logistic, X0, t, args = (a, b))\n",
    "    data_sim = X[0:steps_total:steps_dt,]\n",
    "    \n",
    "    diff = lvdata[1,] - data_sim[:,0]\n",
    "    error = np.dot(diff,diff)\n",
    "    error= error/steps_total\n",
    "\n",
    "    return error"
   ]
  },
  {
   "cell_type": "code",
   "execution_count": 12,
   "id": "1e4de2b7",
   "metadata": {},
   "outputs": [],
   "source": [
    "## Fit data\n",
    "p0 = [B,gamma]\n",
    "res = minimize(error_ssd, p0, method='BFGS', tol=1e-6)\n",
    "\n",
    "B,gamma = res.x\n",
    "X0 = lvdata[1,0] # initial condition\n",
    "dt = 1 # time step\n",
    "t_total = 50 # total time\n",
    "steps_dt = int(1/dt)\n",
    "steps_total = int(t_total/dt)+1\n",
    "\n",
    "t = np.linspace(0, t_total, steps_total)\n",
    "X = odeint(logistic, X0, t, args = (B,gamma))\n"
   ]
  },
  {
   "cell_type": "code",
   "execution_count": 13,
   "id": "26cf40a0",
   "metadata": {},
   "outputs": [
    {
     "data": {
      "text/plain": [
       "Text(0, 0.5, 'Ethanol share (%)')"
      ]
     },
     "execution_count": 13,
     "metadata": {},
     "output_type": "execute_result"
    },
    {
     "data": {
      "image/png": "[encoded data removed]",
      "text/plain": [
       "<Figure size 432x288 with 1 Axes>"
      ]
     },
     "metadata": {
      "needs_background": "light"
     },
     "output_type": "display_data"
    }
   ],
   "source": [
    "## Plot fitted data\n",
    "plt.plot(t+lvdata[0,0], X[:,0], '', label=\"N(sim)\")\n",
    "plt.plot(lvdata[0,:], lvdata[1,:], 'o', label=\"N(data)\")\n",
    "plt.title('Biodisel production')\n",
    "plt.xlabel('Time (years)')\n",
    "plt.ylabel('Ethanol share (%)')"
   ]
  },
  {
   "cell_type": "code",
   "execution_count": 14,
   "id": "d8e3f4d9",
   "metadata": {},
   "outputs": [
    {
     "name": "stdout",
     "output_type": "stream",
     "text": [
      "[1980. 1981. 1982. 1983. 1984. 1985. 1986. 1987. 1988. 1989. 1990. 1991.\n",
      " 1992. 1993. 1994. 1995. 1996. 1997. 1998. 1999. 2000. 2001. 2002. 2003.\n",
      " 2004. 2005. 2006. 2007. 2008. 2009. 2010. 2011. 2012. 2013. 2014. 2015.\n",
      " 2016. 2017. 2018. 2019. 2020. 2021. 2022. 2023. 2024. 2025. 2026. 2027.\n",
      " 2028. 2029. 2030.] [ 0.48060788  0.5713075   0.67885605  0.80627356  0.95707671  1.13534204\n",
      "  1.34576982  1.59374445  1.88538568  2.22758274  2.62800088  3.09504647\n",
      "  3.63777384  4.26571437  4.98860802  5.81601763  6.75681343  7.81852527\n",
      "  9.00658123 10.32347301 11.76792151 13.33414446 15.01134749 16.78356442\n",
      " 18.62994386 20.52552906 22.4424984  24.35175    26.22464701 28.03470242\n",
      " 29.75900205 31.37921073 32.8820903  34.25954041 35.50823951 36.6290019\n",
      " 37.62597721 38.50580513 39.27681225 39.94830723 40.53000232 41.03156741\n",
      " 41.46230853 41.83095338 42.14552411 42.41327725 42.64069247 42.8334953\n",
      " 42.99670144 43.13467367 43.25118462]\n",
      "[1980. 1981. 1982. 1983. 1984. 1985. 1986. 1987. 1988. 1989. 1990. 1991.\n",
      " 1992. 1993. 1994. 1995. 1996. 1997. 1998. 1999. 2000. 2001. 2002. 2003.\n",
      " 2004. 2005. 2006. 2007. 2008. 2009. 2010. 2011. 2012. 2013. 2014. 2015.\n",
      " 2016. 2017. 2018. 2019. 2020. 2021.] [ 0.48060788  1.23302688  1.93154334  2.39064338  3.299221    4.17306421\n",
      "  3.92658439  3.59848597  3.95923153  3.95877941  4.49791931  5.03154888\n",
      "  5.0230672   6.01280634  5.69687074  4.62868295  4.87814952  5.54808327\n",
      "  5.56896479  5.94703148  6.46618857  7.20539476 10.48894116 11.41303454\n",
      " 12.41225838 14.22925394 18.91287339 23.93907508 30.88791839 35.2054973\n",
      " 38.50753245 40.05810952 41.87647113 38.07798865 37.81972203 38.2300464\n",
      " 37.08106043 37.87457796 37.64038613 34.78221169 33.95606881 35.62442472]\n"
     ]
    }
   ],
   "source": [
    "print(t+lvdata[0,0],X[:,0])\n",
    "print(lvdata[0,:], lvdata[1,:])"
   ]
  },
  {
   "cell_type": "code",
   "execution_count": 15,
   "id": "309f42b3",
   "metadata": {},
   "outputs": [
    {
     "data": {
      "text/plain": [
       "([40, 0.15],\n",
       " array([43.87092487,  0.17496839]),\n",
       " 0.5073135511417461,\n",
       " 0.17747283530455418)"
      ]
     },
     "execution_count": 15,
     "metadata": {},
     "output_type": "execute_result"
    }
   ],
   "source": [
    "# Optimization info\n",
    "#output: initial parameters, optimized parameters, initial error, final error\n",
    "p0, res.x, error_ssd(p0), error_ssd(res.x)"
   ]
  },
  {
   "cell_type": "code",
   "execution_count": 16,
   "id": "67ca6650",
   "metadata": {},
   "outputs": [
    {
     "data": {
      "text/plain": [
       "17.328954185629808"
      ]
     },
     "execution_count": 16,
     "metadata": {},
     "output_type": "execute_result"
    }
   ],
   "source": [
    "# Test accuracy\n",
    "original_data=lvdata[1,:].flatten()\n",
    "sim_data = X[0:original_data.shape[0]].flatten()\n",
    "\n",
    "diff= original_data-sim_data\n",
    "np.sum(np.square(diff))/original_data.shape[0]"
   ]
  }
 ],
 "metadata": {
  "kernelspec": {
   "display_name": "Python 3 (ipykernel)",
   "language": "python",
   "name": "python3"
  },
  "language_info": {
   "codemirror_mode": {
    "name": "ipython",
    "version": 3
   },
   "file_extension": ".py",
   "mimetype": "text/x-python",
   "name": "python",
   "nbconvert_exporter": "python",
   "pygments_lexer": "ipython3",
   "version": "3.9.7"
  }
 },
 "nbformat": 4,
 "nbformat_minor": 5
}
